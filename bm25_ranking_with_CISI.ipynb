{
  "nbformat": 4,
  "nbformat_minor": 0,
  "metadata": {
    "colab": {
      "provenance": [],
      "toc_visible": true,
      "authorship_tag": "ABX9TyOs0qhvReCe6NHq/4QNglIU",
      "include_colab_link": true
    },
    "kernelspec": {
      "name": "python3",
      "display_name": "Python 3"
    },
    "language_info": {
      "name": "python"
    }
  },
  "cells": [
    {
      "cell_type": "markdown",
      "metadata": {
        "id": "view-in-github",
        "colab_type": "text"
      },
      "source": [
        "<a href=\"https://colab.research.google.com/github/eduseiti/bm25_explore/blob/main/bm25_ranking_with_CISI.ipynb\" target=\"_parent\"><img src=\"https://colab.research.google.com/assets/colab-badge.svg\" alt=\"Open In Colab\"/></a>"
      ]
    },
    {
      "cell_type": "code",
      "source": [
        "!pip install rank_bm25"
      ],
      "metadata": {
        "colab": {
          "base_uri": "https://localhost:8080/"
        },
        "id": "BYZz782gn2WR",
        "outputId": "0ca1f071-b591-4acc-e939-396afad15d2e"
      },
      "execution_count": 1,
      "outputs": [
        {
          "output_type": "stream",
          "name": "stdout",
          "text": [
            "Looking in indexes: https://pypi.org/simple, https://us-python.pkg.dev/colab-wheels/public/simple/\n",
            "Collecting rank_bm25\n",
            "  Downloading rank_bm25-0.2.2-py3-none-any.whl (8.6 kB)\n",
            "Requirement already satisfied: numpy in /usr/local/lib/python3.8/dist-packages (from rank_bm25) (1.22.4)\n",
            "Installing collected packages: rank_bm25\n",
            "Successfully installed rank_bm25-0.2.2\n"
          ]
        }
      ]
    },
    {
      "cell_type": "code",
      "execution_count": 2,
      "metadata": {
        "id": "HcKElOJru9AF"
      },
      "outputs": [],
      "source": [
        "import rank_bm25\n",
        "import pandas as pd\n",
        "import numpy as np\n",
        "\n",
        "import nltk\n",
        "from nltk.corpus import stopwords\n",
        "import string\n",
        "\n",
        "import os\n",
        "import sys\n",
        "import pickle\n",
        "\n",
        "import regex as re\n",
        "import urllib"
      ]
    },
    {
      "cell_type": "code",
      "source": [
        "from scipy import stats"
      ],
      "metadata": {
        "id": "xZTaBgwk4_18"
      },
      "execution_count": 19,
      "outputs": []
    },
    {
      "cell_type": "code",
      "source": [
        "nltk.download('stopwords')\n",
        "nltk.download('punkt')"
      ],
      "metadata": {
        "colab": {
          "base_uri": "https://localhost:8080/"
        },
        "id": "B7YbT7SNFBkX",
        "outputId": "4ed6df5a-4ca2-48c8-a415-e9c08c9acddf"
      },
      "execution_count": 3,
      "outputs": [
        {
          "output_type": "stream",
          "name": "stderr",
          "text": [
            "[nltk_data] Downloading package stopwords to /root/nltk_data...\n",
            "[nltk_data]   Unzipping corpora/stopwords.zip.\n",
            "[nltk_data] Downloading package punkt to /root/nltk_data...\n",
            "[nltk_data]   Unzipping tokenizers/punkt.zip.\n"
          ]
        },
        {
          "output_type": "execute_result",
          "data": {
            "text/plain": [
              "True"
            ]
          },
          "metadata": {},
          "execution_count": 3
        }
      ]
    },
    {
      "cell_type": "code",
      "source": [
        "PARSING_FIELDS_REGEXS={\n",
        "  'identifier': [\"^\\.I\\s+([0-9]+)\"],\n",
        "  'title_or_words': [\"^\\.T\\s*\\r?\\n?$|^\\.W\\s*\\r?\\n?$\"],\n",
        "  'title_content_or_author': [\"^\\.A\\s*\\r?\\n?$\", \"^(.+)\\r\\n$|^(.+)\\n$\"],\n",
        "  'author_content_or_words': [\"^\\.W\\s*\\r?\\n?$\", \"^(.+)\\r\\n$|^(.+)\\n$\"],\n",
        "  'words_content_or_xref_or_identifier': [\"^\\.I\\s+([0-9]+)\", \"^\\.X\\s*\\r?\\n?$\", \"^(.+)\\r\\n$|^(.+)\\n$\"],\n",
        "  'words_content_or_identifier': [\"^\\.I\\s+([0-9]+)\", \"^(.+)\\r\\n$|^(.+)\\n$\"],\n",
        "  'xref_content_or_identifier': [\"^\\.I\\s+([0-9]+)\", \"^(.+)\\r\\n$|^(.+)\\n$\"]\n",
        "}\n",
        "\n",
        "def read_cisi_docs_and_queries(file_url):\n",
        "\n",
        "  all_elements = []\n",
        "\n",
        "  current_element = {'next_field': 'identifier'}\n",
        "\n",
        "  for line in urllib.request.urlopen(file_url):\n",
        "\n",
        "    # print(line)\n",
        "    # print(current_element)\n",
        "\n",
        "    regex_list = PARSING_FIELDS_REGEXS[current_element['next_field']]\n",
        "\n",
        "    for each_regex in regex_list:\n",
        "      m = re.match(each_regex, line.decode())\n",
        "\n",
        "      if m is not None:\n",
        "        break;\n",
        "\n",
        "    if m is not None:\n",
        "\n",
        "      # Check if this match has data to store\n",
        "\n",
        "      if len(m.groups()) > 0:\n",
        "\n",
        "        # As there is data, check what it is and store it properly\n",
        "\n",
        "        if current_element['next_field'] == 'identifier':\n",
        "          current_element['identifier'] = m.group(1)\n",
        "          current_element['next_field'] = 'title_or_words'\n",
        "\n",
        "        elif current_element['next_field'] == 'title_content_or_author':\n",
        "          current_element['title'] += m.group(1) + ' '\n",
        "\n",
        "        elif current_element['next_field'] == 'author_content_or_words':\n",
        "          current_element['author'] += m.group(1) + ';'\n",
        "\n",
        "        elif (current_element['next_field'] == 'xref_content_or_identifier') or \\\n",
        "             (current_element['next_field'] == 'words_content_or_identifier') or \\\n",
        "             (current_element['next_field'] == 'words_content_or_xref_or_identifier'):\n",
        "\n",
        "          if m.group(0)[0:2] == '.I':\n",
        "            # Document complete\n",
        "            \n",
        "            # print(current_element)\n",
        "\n",
        "            all_elements.append(current_element)\n",
        "          \n",
        "            current_element = {'identifier': m.group(1),\n",
        "                               'next_field': 'title_or_words'}\n",
        "          else:\n",
        "            if current_element['next_field'] == 'xref_content_or_identifier':\n",
        "              current_element['xref'] += m.group(1) + ';'\n",
        "            else:\n",
        "              if m.group(1) is not None:\n",
        "                current_element['words'] += m.group(1) + ' '\n",
        "\n",
        "      else:\n",
        "\n",
        "        # This is a tag-only entry\n",
        "\n",
        "        if current_element['next_field'] == 'title_or_words':\n",
        "          if m.group(0)[0:2] == '.T':\n",
        "            current_element['title'] = \"\"\n",
        "            current_element['next_field'] = 'title_content_or_author'\n",
        "          else:\n",
        "            current_element['words'] = \"\"\n",
        "            current_element['next_field'] = 'words_content_or_identifier'\n",
        "\n",
        "        elif current_element['next_field'] == 'title_content_or_author':\n",
        "          current_element['author'] = \"\"\n",
        "          current_element['next_field'] = 'author_content_or_words'\n",
        "\n",
        "        elif current_element['next_field'] == 'author_content_or_words':\n",
        "          current_element['words'] = \"\"\n",
        "          current_element['next_field'] = 'words_content_or_xref_or_identifier'\n",
        "\n",
        "        elif current_element['next_field'] == 'words_content_or_xref_or_identifier':\n",
        "          current_element['xref'] = \"\"\n",
        "          current_element['next_field'] = 'xref_content_or_identifier'\n",
        "\n",
        "        elif (current_element['next_field'] == 'xref_content_or_identifier') \\\n",
        "             (current_element['next_field'] == 'words_content_or_identifier'):\n",
        "          \n",
        "          # Document complete\n",
        "          \n",
        "          # print(current_element)\n",
        "\n",
        "          all_elements.append(current_element)\n",
        "\n",
        "          current_element = {'next_field': 'identifier'}\n",
        "\n",
        "        else:\n",
        "          print(\"Just ignore the line\")\n",
        "\n",
        "    # break\n",
        "\n",
        "  if current_element['next_field'] != 'title_or_words':\n",
        "    all_elements.append(current_element)\n",
        "\n",
        "  print(\"Parsed {} elements...\".format(len(all_elements)))  \n",
        "\n",
        "  return pd.DataFrame(all_elements).drop(columns='next_field')"
      ],
      "metadata": {
        "id": "J4c8OXx_IVaC"
      },
      "execution_count": 4,
      "outputs": []
    },
    {
      "cell_type": "markdown",
      "source": [
        "# Read CISI files"
      ],
      "metadata": {
        "id": "VLzZ1cYqDxsC"
      }
    },
    {
      "cell_type": "code",
      "source": [
        "docs_df = read_cisi_docs_and_queries('https://raw.githubusercontent.com/eduseiti/bm25_explore/main/cisi/CISI.ALL')"
      ],
      "metadata": {
        "id": "rzt2rb2uzXB9",
        "colab": {
          "base_uri": "https://localhost:8080/"
        },
        "outputId": "2af29d5d-fd60-41a9-a6fd-ef532fa279b9"
      },
      "execution_count": 5,
      "outputs": [
        {
          "output_type": "stream",
          "name": "stdout",
          "text": [
            "Parsed 1460 elements...\n"
          ]
        }
      ]
    },
    {
      "cell_type": "code",
      "source": [
        "queries_df = read_cisi_docs_and_queries('https://raw.githubusercontent.com/eduseiti/bm25_explore/main/cisi/CISI.QRY')"
      ],
      "metadata": {
        "id": "oyBGYQux2pd_",
        "colab": {
          "base_uri": "https://localhost:8080/"
        },
        "outputId": "e44a9b11-900c-4b8f-d17e-e21ba906c0b6"
      },
      "execution_count": 6,
      "outputs": [
        {
          "output_type": "stream",
          "name": "stdout",
          "text": [
            "Parsed 112 elements...\n"
          ]
        }
      ]
    },
    {
      "cell_type": "code",
      "source": [
        "qrels_df = pd.read_csv('https://raw.githubusercontent.com/eduseiti/bm25_explore/main/cisi/CISI.REL', \n",
        "                       sep='\\t', \n",
        "                       header=None, \n",
        "                       names=['query_id', 'doc_id', 'Q0', 'rel'])"
      ],
      "metadata": {
        "id": "IDYz564C2oeB"
      },
      "execution_count": 25,
      "outputs": []
    },
    {
      "cell_type": "markdown",
      "source": [
        "# Tokenize and clean stop words from reference docs and queries"
      ],
      "metadata": {
        "id": "IIEvmtGHGOYY"
      }
    },
    {
      "cell_type": "code",
      "source": [
        "def tokenize_and_remove_stop_words(which_df, stop_words, punctuation):\n",
        "\n",
        "  all_tokens = [nltk.word_tokenize(doc.lower()) for doc in which_df['words']]\n",
        "\n",
        "  cleaned_tokens = [[token for token in doc_tokens if token not in stop_words and token not in punctuation] for doc_tokens in all_tokens]\n",
        "\n",
        "  return cleaned_tokens"
      ],
      "metadata": {
        "id": "AqkM2p5gAhDk"
      },
      "execution_count": 8,
      "outputs": []
    },
    {
      "cell_type": "code",
      "source": [
        "stop_words = set(stopwords.words('english'))\n",
        "punctuation = set(string.punctuation)"
      ],
      "metadata": {
        "id": "DlOUyDyBEm5u"
      },
      "execution_count": 9,
      "outputs": []
    },
    {
      "cell_type": "code",
      "source": [
        "docs_tokens = tokenize_and_remove_stop_words(docs_df, stop_words, punctuation)"
      ],
      "metadata": {
        "id": "0bEoejvoYEAz"
      },
      "execution_count": 10,
      "outputs": []
    },
    {
      "cell_type": "code",
      "source": [
        "len(docs_tokens)"
      ],
      "metadata": {
        "colab": {
          "base_uri": "https://localhost:8080/"
        },
        "id": "FW1_OK3nE3K_",
        "outputId": "13672e17-03e1-436d-e579-7672ed72cedd"
      },
      "execution_count": 11,
      "outputs": [
        {
          "output_type": "execute_result",
          "data": {
            "text/plain": [
              "1460"
            ]
          },
          "metadata": {},
          "execution_count": 11
        }
      ]
    },
    {
      "cell_type": "code",
      "source": [
        "queries_tokens = tokenize_and_remove_stop_words(queries_df, stop_words, punctuation)"
      ],
      "metadata": {
        "id": "e1jcM51NFhsl"
      },
      "execution_count": 12,
      "outputs": []
    },
    {
      "cell_type": "code",
      "source": [
        "len(queries_tokens)"
      ],
      "metadata": {
        "colab": {
          "base_uri": "https://localhost:8080/"
        },
        "id": "gkI39YaLF3jU",
        "outputId": "f616d71c-f839-47ef-a64b-41bf506738c0"
      },
      "execution_count": 13,
      "outputs": [
        {
          "output_type": "execute_result",
          "data": {
            "text/plain": [
              "112"
            ]
          },
          "metadata": {},
          "execution_count": 13
        }
      ]
    },
    {
      "cell_type": "markdown",
      "source": [
        "# Compute BM25 scores for each query / document pair"
      ],
      "metadata": {
        "id": "OdHeOT-jGA3q"
      }
    },
    {
      "cell_type": "code",
      "source": [
        "docs_bm25_scores = rank_bm25.BM25Okapi(docs_tokens)"
      ],
      "metadata": {
        "id": "x42wTdXwnfB3"
      },
      "execution_count": 14,
      "outputs": []
    },
    {
      "cell_type": "code",
      "source": [
        "docs_queries_scores = []\n",
        "\n",
        "for query_tokens in queries_tokens:\n",
        "  query_scores = docs_bm25_scores.get_scores(query_tokens)\n",
        "\n",
        "  docs_queries_scores.append(query_scores)"
      ],
      "metadata": {
        "id": "XMAMEtY1nhn5"
      },
      "execution_count": 15,
      "outputs": []
    },
    {
      "cell_type": "code",
      "source": [
        "len(docs_queries_scores)"
      ],
      "metadata": {
        "colab": {
          "base_uri": "https://localhost:8080/"
        },
        "id": "M9AgwJO6niEJ",
        "outputId": "ceb0d712-d692-4e72-cacb-486adc851d94"
      },
      "execution_count": 16,
      "outputs": [
        {
          "output_type": "execute_result",
          "data": {
            "text/plain": [
              "112"
            ]
          },
          "metadata": {},
          "execution_count": 16
        }
      ]
    },
    {
      "cell_type": "code",
      "source": [
        "stats.describe(docs_queries_scores[0])"
      ],
      "metadata": {
        "colab": {
          "base_uri": "https://localhost:8080/"
        },
        "id": "WyLS24374rRT",
        "outputId": "2fa88c1c-a992-485a-be4e-7c16b9f0675e"
      },
      "execution_count": 20,
      "outputs": [
        {
          "output_type": "execute_result",
          "data": {
            "text/plain": [
              "DescribeResult(nobs=1460, minmax=(0.0, 26.730362664515948), mean=1.949901965823141, variance=12.167242493146299, skewness=2.4218850913284964, kurtosis=7.038081458985664)"
            ]
          },
          "metadata": {},
          "execution_count": 20
        }
      ]
    },
    {
      "cell_type": "code",
      "source": [
        "np.histogram(docs_queries_scores[100])"
      ],
      "metadata": {
        "colab": {
          "base_uri": "https://localhost:8080/"
        },
        "id": "SLjxl8Yo4q-L",
        "outputId": "155ceb28-c561-43e9-f34f-edc163f616f2"
      },
      "execution_count": 24,
      "outputs": [
        {
          "output_type": "execute_result",
          "data": {
            "text/plain": [
              "(array([463, 434, 222, 142, 104,  57,  22,  12,   2,   2]),\n",
              " array([ 0.        ,  4.8035264 ,  9.60705281, 14.41057921, 19.21410562,\n",
              "        24.01763202, 28.82115843, 33.62468483, 38.42821124, 43.23173764,\n",
              "        48.03526405]))"
            ]
          },
          "metadata": {},
          "execution_count": 24
        }
      ]
    },
    {
      "cell_type": "code",
      "source": [
        "aa"
      ],
      "metadata": {
        "id": "qvXvlrGm4qoM"
      },
      "execution_count": null,
      "outputs": []
    },
    {
      "cell_type": "code",
      "source": [
        "docs_queries_scores[0][1280]"
      ],
      "metadata": {
        "id": "wAkvAiOXan6U"
      },
      "execution_count": null,
      "outputs": []
    },
    {
      "cell_type": "code",
      "source": [
        "docs_queries_scores[0][docs_queries_scores[0] > 9]"
      ],
      "metadata": {
        "id": "4_EL7Bd1YsvR"
      },
      "execution_count": null,
      "outputs": []
    },
    {
      "cell_type": "code",
      "source": [
        "np.where(docs_queries_scores[0] > 9)[0] + 1"
      ],
      "metadata": {
        "colab": {
          "base_uri": "https://localhost:8080/"
        },
        "id": "Y0WmlwkvZCfT",
        "outputId": "b15abc2d-f39a-4fe4-d53e-1c082b55aecc"
      },
      "execution_count": 32,
      "outputs": [
        {
          "output_type": "execute_result",
          "data": {
            "text/plain": [
              "array([  17,   28,   34,   38,   65,   76,  106,  135,  150,  192,  193,\n",
              "        196,  201,  204,  212,  215,  219,  221,  225,  227,  234,  244,\n",
              "        269,  415,  429,  440,  447,  449,  465,  466,  477,  483,  485,\n",
              "        493,  495,  510,  524,  546,  573,  576,  582,  589,  604,  609,\n",
              "        616,  622,  650,  676,  711,  722,  726,  757,  759,  767,  790,\n",
              "        804,  811,  813,  814,  820,  831,  861,  863,  869,  886,  901,\n",
              "        920,  921,  953,  958, 1055, 1059, 1089, 1090, 1091, 1118, 1160,\n",
              "       1162, 1164, 1195, 1197, 1281, 1286, 1299, 1323, 1338, 1364, 1369,\n",
              "       1373, 1383, 1387, 1436, 1440])"
            ]
          },
          "metadata": {},
          "execution_count": 32
        }
      ]
    },
    {
      "cell_type": "markdown",
      "source": [
        "# Now compare the computed relevance score with the groud truth"
      ],
      "metadata": {
        "id": "kSX2YPMxYOXZ"
      }
    },
    {
      "cell_type": "code",
      "source": [
        "from sklearn.metrics import precision_score, recall_score, f1_score"
      ],
      "metadata": {
        "id": "5VsNi1sc1uf0"
      },
      "execution_count": 26,
      "outputs": []
    },
    {
      "cell_type": "code",
      "source": [
        "score_threshold = 1e-5\n",
        "\n",
        "results = []\n",
        "\n",
        "# Evaluate the retrieval performance using precision, recall, and F1-score\n",
        "\n",
        "query_ids = qrels_df['query_id'].unique()\n",
        "\n",
        "for query_id in query_ids:\n",
        "\n",
        "    inferred_relevant_docs = docs_queries_scores[query_id - 1] > score_threshold\n",
        "\n",
        "    gt_relevant_docs = np.zeros(inferred_relevant_docs.shape[0], dtype=bool)\n",
        "    gt_relevant_docs[qrels_df[qrels_df['query_id'] == query_id]['doc_id'].to_numpy() - 1] = True\n",
        "\n",
        "    precision = precision_score(gt_relevant_docs, inferred_relevant_docs)\n",
        "    recall = recall_score(gt_relevant_docs, inferred_relevant_docs)\n",
        "    f1 = f1_score(gt_relevant_docs, inferred_relevant_docs)\n",
        "\n",
        "    results.append({'query_id': query_id, 'precision': precision, 'recall': recall, 'f1': f1})\n",
        "\n",
        "results_df = pd.DataFrame(results)"
      ],
      "metadata": {
        "id": "s25zqIpP33Q1"
      },
      "execution_count": 57,
      "outputs": []
    },
    {
      "cell_type": "code",
      "source": [
        "results_df.describe()"
      ],
      "metadata": {
        "colab": {
          "base_uri": "https://localhost:8080/",
          "height": 300
        },
        "id": "eLiFLPoT9my9",
        "outputId": "d9fa36a8-750a-4425-8b1c-22c5c0642aba"
      },
      "execution_count": 58,
      "outputs": [
        {
          "output_type": "execute_result",
          "data": {
            "text/plain": [
              "         query_id  precision     recall         f1\n",
              "count   76.000000  76.000000  76.000000  76.000000\n",
              "mean    46.776316   0.038334   0.885000   0.070852\n",
              "std     32.293074   0.033457   0.119853   0.057963\n",
              "min      1.000000   0.000730   0.580247   0.001460\n",
              "25%     19.750000   0.011838   0.815559   0.023357\n",
              "50%     41.500000   0.025024   0.909384   0.048563\n",
              "75%     69.500000   0.053830   1.000000   0.101087\n",
              "max    111.000000   0.132548   1.000000   0.228443"
            ],
            "text/html": [
              "\n",
              "  <div id=\"df-797d2541-95c4-4171-b2f1-ad50aa74e875\">\n",
              "    <div class=\"colab-df-container\">\n",
              "      <div>\n",
              "<style scoped>\n",
              "    .dataframe tbody tr th:only-of-type {\n",
              "        vertical-align: middle;\n",
              "    }\n",
              "\n",
              "    .dataframe tbody tr th {\n",
              "        vertical-align: top;\n",
              "    }\n",
              "\n",
              "    .dataframe thead th {\n",
              "        text-align: right;\n",
              "    }\n",
              "</style>\n",
              "<table border=\"1\" class=\"dataframe\">\n",
              "  <thead>\n",
              "    <tr style=\"text-align: right;\">\n",
              "      <th></th>\n",
              "      <th>query_id</th>\n",
              "      <th>precision</th>\n",
              "      <th>recall</th>\n",
              "      <th>f1</th>\n",
              "    </tr>\n",
              "  </thead>\n",
              "  <tbody>\n",
              "    <tr>\n",
              "      <th>count</th>\n",
              "      <td>76.000000</td>\n",
              "      <td>76.000000</td>\n",
              "      <td>76.000000</td>\n",
              "      <td>76.000000</td>\n",
              "    </tr>\n",
              "    <tr>\n",
              "      <th>mean</th>\n",
              "      <td>46.776316</td>\n",
              "      <td>0.038334</td>\n",
              "      <td>0.885000</td>\n",
              "      <td>0.070852</td>\n",
              "    </tr>\n",
              "    <tr>\n",
              "      <th>std</th>\n",
              "      <td>32.293074</td>\n",
              "      <td>0.033457</td>\n",
              "      <td>0.119853</td>\n",
              "      <td>0.057963</td>\n",
              "    </tr>\n",
              "    <tr>\n",
              "      <th>min</th>\n",
              "      <td>1.000000</td>\n",
              "      <td>0.000730</td>\n",
              "      <td>0.580247</td>\n",
              "      <td>0.001460</td>\n",
              "    </tr>\n",
              "    <tr>\n",
              "      <th>25%</th>\n",
              "      <td>19.750000</td>\n",
              "      <td>0.011838</td>\n",
              "      <td>0.815559</td>\n",
              "      <td>0.023357</td>\n",
              "    </tr>\n",
              "    <tr>\n",
              "      <th>50%</th>\n",
              "      <td>41.500000</td>\n",
              "      <td>0.025024</td>\n",
              "      <td>0.909384</td>\n",
              "      <td>0.048563</td>\n",
              "    </tr>\n",
              "    <tr>\n",
              "      <th>75%</th>\n",
              "      <td>69.500000</td>\n",
              "      <td>0.053830</td>\n",
              "      <td>1.000000</td>\n",
              "      <td>0.101087</td>\n",
              "    </tr>\n",
              "    <tr>\n",
              "      <th>max</th>\n",
              "      <td>111.000000</td>\n",
              "      <td>0.132548</td>\n",
              "      <td>1.000000</td>\n",
              "      <td>0.228443</td>\n",
              "    </tr>\n",
              "  </tbody>\n",
              "</table>\n",
              "</div>\n",
              "      <button class=\"colab-df-convert\" onclick=\"convertToInteractive('df-797d2541-95c4-4171-b2f1-ad50aa74e875')\"\n",
              "              title=\"Convert this dataframe to an interactive table.\"\n",
              "              style=\"display:none;\">\n",
              "        \n",
              "  <svg xmlns=\"http://www.w3.org/2000/svg\" height=\"24px\"viewBox=\"0 0 24 24\"\n",
              "       width=\"24px\">\n",
              "    <path d=\"M0 0h24v24H0V0z\" fill=\"none\"/>\n",
              "    <path d=\"M18.56 5.44l.94 2.06.94-2.06 2.06-.94-2.06-.94-.94-2.06-.94 2.06-2.06.94zm-11 1L8.5 8.5l.94-2.06 2.06-.94-2.06-.94L8.5 2.5l-.94 2.06-2.06.94zm10 10l.94 2.06.94-2.06 2.06-.94-2.06-.94-.94-2.06-.94 2.06-2.06.94z\"/><path d=\"M17.41 7.96l-1.37-1.37c-.4-.4-.92-.59-1.43-.59-.52 0-1.04.2-1.43.59L10.3 9.45l-7.72 7.72c-.78.78-.78 2.05 0 2.83L4 21.41c.39.39.9.59 1.41.59.51 0 1.02-.2 1.41-.59l7.78-7.78 2.81-2.81c.8-.78.8-2.07 0-2.86zM5.41 20L4 18.59l7.72-7.72 1.47 1.35L5.41 20z\"/>\n",
              "  </svg>\n",
              "      </button>\n",
              "      \n",
              "  <style>\n",
              "    .colab-df-container {\n",
              "      display:flex;\n",
              "      flex-wrap:wrap;\n",
              "      gap: 12px;\n",
              "    }\n",
              "\n",
              "    .colab-df-convert {\n",
              "      background-color: #E8F0FE;\n",
              "      border: none;\n",
              "      border-radius: 50%;\n",
              "      cursor: pointer;\n",
              "      display: none;\n",
              "      fill: #1967D2;\n",
              "      height: 32px;\n",
              "      padding: 0 0 0 0;\n",
              "      width: 32px;\n",
              "    }\n",
              "\n",
              "    .colab-df-convert:hover {\n",
              "      background-color: #E2EBFA;\n",
              "      box-shadow: 0px 1px 2px rgba(60, 64, 67, 0.3), 0px 1px 3px 1px rgba(60, 64, 67, 0.15);\n",
              "      fill: #174EA6;\n",
              "    }\n",
              "\n",
              "    [theme=dark] .colab-df-convert {\n",
              "      background-color: #3B4455;\n",
              "      fill: #D2E3FC;\n",
              "    }\n",
              "\n",
              "    [theme=dark] .colab-df-convert:hover {\n",
              "      background-color: #434B5C;\n",
              "      box-shadow: 0px 1px 3px 1px rgba(0, 0, 0, 0.15);\n",
              "      filter: drop-shadow(0px 1px 2px rgba(0, 0, 0, 0.3));\n",
              "      fill: #FFFFFF;\n",
              "    }\n",
              "  </style>\n",
              "\n",
              "      <script>\n",
              "        const buttonEl =\n",
              "          document.querySelector('#df-797d2541-95c4-4171-b2f1-ad50aa74e875 button.colab-df-convert');\n",
              "        buttonEl.style.display =\n",
              "          google.colab.kernel.accessAllowed ? 'block' : 'none';\n",
              "\n",
              "        async function convertToInteractive(key) {\n",
              "          const element = document.querySelector('#df-797d2541-95c4-4171-b2f1-ad50aa74e875');\n",
              "          const dataTable =\n",
              "            await google.colab.kernel.invokeFunction('convertToInteractive',\n",
              "                                                     [key], {});\n",
              "          if (!dataTable) return;\n",
              "\n",
              "          const docLinkHtml = 'Like what you see? Visit the ' +\n",
              "            '<a target=\"_blank\" href=https://colab.research.google.com/notebooks/data_table.ipynb>data table notebook</a>'\n",
              "            + ' to learn more about interactive tables.';\n",
              "          element.innerHTML = '';\n",
              "          dataTable['output_type'] = 'display_data';\n",
              "          await google.colab.output.renderOutput(dataTable, element);\n",
              "          const docLink = document.createElement('div');\n",
              "          docLink.innerHTML = docLinkHtml;\n",
              "          element.appendChild(docLink);\n",
              "        }\n",
              "      </script>\n",
              "    </div>\n",
              "  </div>\n",
              "  "
            ]
          },
          "metadata": {},
          "execution_count": 58
        }
      ]
    },
    {
      "cell_type": "code",
      "source": [],
      "metadata": {
        "id": "aU84HBX994JG"
      },
      "execution_count": null,
      "outputs": []
    }
  ]
}