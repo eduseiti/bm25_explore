{
  "nbformat": 4,
  "nbformat_minor": 0,
  "metadata": {
    "colab": {
      "provenance": [],
      "toc_visible": true,
      "authorship_tag": "ABX9TyOZ4RpA5IFy9YOcwBhS4lod",
      "include_colab_link": true
    },
    "kernelspec": {
      "name": "python3",
      "display_name": "Python 3"
    },
    "language_info": {
      "name": "python"
    }
  },
  "cells": [
    {
      "cell_type": "markdown",
      "metadata": {
        "id": "view-in-github",
        "colab_type": "text"
      },
      "source": [
        "<a href=\"https://colab.research.google.com/github/eduseiti/bm25_explore/blob/main/bm25_ranking_with_CISI.ipynb\" target=\"_parent\"><img src=\"https://colab.research.google.com/assets/colab-badge.svg\" alt=\"Open In Colab\"/></a>"
      ]
    },
    {
      "cell_type": "code",
      "source": [
        "!pip install rank_bm25"
      ],
      "metadata": {
        "colab": {
          "base_uri": "https://localhost:8080/"
        },
        "id": "BYZz782gn2WR",
        "outputId": "9bc85f7a-0843-4049-f38e-b069a1e4d7a9"
      },
      "execution_count": null,
      "outputs": [
        {
          "output_type": "stream",
          "name": "stdout",
          "text": [
            "Looking in indexes: https://pypi.org/simple, https://us-python.pkg.dev/colab-wheels/public/simple/\n",
            "Requirement already satisfied: rank_bm25 in /usr/local/lib/python3.8/dist-packages (0.2.2)\n",
            "Requirement already satisfied: numpy in /usr/local/lib/python3.8/dist-packages (from rank_bm25) (1.22.4)\n"
          ]
        }
      ]
    },
    {
      "cell_type": "code",
      "execution_count": null,
      "metadata": {
        "id": "HcKElOJru9AF"
      },
      "outputs": [],
      "source": [
        "import rank_bm25\n",
        "import pandas as pd\n",
        "import numpy as np\n",
        "\n",
        "import nltk\n",
        "from nltk.corpus import stopwords\n",
        "import string\n",
        "\n",
        "import os\n",
        "import sys\n",
        "import pickle\n",
        "\n",
        "import regex as re\n",
        "import urllib\n",
        "from scipy import stats\n",
        "\n",
        "from sklearn.metrics import precision_score, recall_score, f1_score"
      ]
    },
    {
      "cell_type": "code",
      "source": [
        "nltk.download('stopwords')\n",
        "nltk.download('punkt')"
      ],
      "metadata": {
        "colab": {
          "base_uri": "https://localhost:8080/"
        },
        "id": "B7YbT7SNFBkX",
        "outputId": "a7770917-69a5-4006-9bcb-4b9208c2eddd"
      },
      "execution_count": null,
      "outputs": [
        {
          "output_type": "stream",
          "name": "stderr",
          "text": [
            "[nltk_data] Downloading package stopwords to /root/nltk_data...\n",
            "[nltk_data]   Unzipping corpora/stopwords.zip.\n",
            "[nltk_data] Downloading package punkt to /root/nltk_data...\n",
            "[nltk_data]   Unzipping tokenizers/punkt.zip.\n"
          ]
        },
        {
          "output_type": "execute_result",
          "data": {
            "text/plain": [
              "True"
            ]
          },
          "metadata": {},
          "execution_count": 8
        }
      ]
    },
    {
      "cell_type": "code",
      "source": [
        "PARSING_FIELDS_REGEXS={\n",
        "  'identifier': [\"^\\.I\\s+([0-9]+)\"],\n",
        "  'title_or_words': [\"^\\.T\\s*\\r?\\n?$|^\\.W\\s*\\r?\\n?$\"],\n",
        "  'title_content_or_author': [\"^\\.A\\s*\\r?\\n?$\", \"^(.+)\\r\\n$|^(.+)\\n$\"],\n",
        "  'author_content_or_words': [\"^\\.W\\s*\\r?\\n?$\", \"^(.+)\\r\\n$|^(.+)\\n$\"],\n",
        "  'words_content_or_xref_or_identifier': [\"^\\.I\\s+([0-9]+)\", \"^\\.X\\s*\\r?\\n?$\", \"^(.+)\\r\\n$|^(.+)\\n$\"],\n",
        "  'words_content_or_identifier': [\"^\\.I\\s+([0-9]+)\", \"^(.+)\\r\\n$|^(.+)\\n$\"],\n",
        "  'xref_content_or_identifier': [\"^\\.I\\s+([0-9]+)\", \"^(.+)\\r\\n$|^(.+)\\n$\"]\n",
        "}\n",
        "\n",
        "def read_cisi_docs_and_queries(file_url):\n",
        "\n",
        "  all_elements = []\n",
        "\n",
        "  current_element = {'next_field': 'identifier'}\n",
        "\n",
        "  for line in urllib.request.urlopen(file_url):\n",
        "\n",
        "    # print(line)\n",
        "    # print(current_element)\n",
        "\n",
        "    regex_list = PARSING_FIELDS_REGEXS[current_element['next_field']]\n",
        "\n",
        "    for each_regex in regex_list:\n",
        "      m = re.match(each_regex, line.decode())\n",
        "\n",
        "      if m is not None:\n",
        "        break;\n",
        "\n",
        "    if m is not None:\n",
        "\n",
        "      # Check if this match has data to store\n",
        "\n",
        "      if len(m.groups()) > 0:\n",
        "\n",
        "        # As there is data, check what it is and store it properly\n",
        "\n",
        "        if current_element['next_field'] == 'identifier':\n",
        "          current_element['identifier'] = m.group(1)\n",
        "          current_element['next_field'] = 'title_or_words'\n",
        "\n",
        "        elif current_element['next_field'] == 'title_content_or_author':\n",
        "          current_element['title'] += m.group(1) + ' '\n",
        "\n",
        "        elif current_element['next_field'] == 'author_content_or_words':\n",
        "          current_element['author'] += m.group(1) + ';'\n",
        "\n",
        "        elif (current_element['next_field'] == 'xref_content_or_identifier') or \\\n",
        "             (current_element['next_field'] == 'words_content_or_identifier') or \\\n",
        "             (current_element['next_field'] == 'words_content_or_xref_or_identifier'):\n",
        "\n",
        "          if m.group(0)[0:2] == '.I':\n",
        "            # Document complete\n",
        "            \n",
        "            # print(current_element)\n",
        "\n",
        "            all_elements.append(current_element)\n",
        "          \n",
        "            current_element = {'identifier': m.group(1),\n",
        "                               'next_field': 'title_or_words'}\n",
        "          else:\n",
        "            if current_element['next_field'] == 'xref_content_or_identifier':\n",
        "              current_element['xref'] += m.group(1) + ';'\n",
        "            else:\n",
        "              if m.group(1) is not None:\n",
        "                current_element['words'] += m.group(1) + ' '\n",
        "\n",
        "      else:\n",
        "\n",
        "        # This is a tag-only entry\n",
        "\n",
        "        if current_element['next_field'] == 'title_or_words':\n",
        "          if m.group(0)[0:2] == '.T':\n",
        "            current_element['title'] = \"\"\n",
        "            current_element['next_field'] = 'title_content_or_author'\n",
        "          else:\n",
        "            current_element['words'] = \"\"\n",
        "            current_element['next_field'] = 'words_content_or_identifier'\n",
        "\n",
        "        elif current_element['next_field'] == 'title_content_or_author':\n",
        "          current_element['author'] = \"\"\n",
        "          current_element['next_field'] = 'author_content_or_words'\n",
        "\n",
        "        elif current_element['next_field'] == 'author_content_or_words':\n",
        "          current_element['words'] = \"\"\n",
        "          current_element['next_field'] = 'words_content_or_xref_or_identifier'\n",
        "\n",
        "        elif current_element['next_field'] == 'words_content_or_xref_or_identifier':\n",
        "          current_element['xref'] = \"\"\n",
        "          current_element['next_field'] = 'xref_content_or_identifier'\n",
        "\n",
        "        elif (current_element['next_field'] == 'xref_content_or_identifier') \\\n",
        "             (current_element['next_field'] == 'words_content_or_identifier'):\n",
        "          \n",
        "          # Document complete\n",
        "          \n",
        "          # print(current_element)\n",
        "\n",
        "          all_elements.append(current_element)\n",
        "\n",
        "          current_element = {'next_field': 'identifier'}\n",
        "\n",
        "        else:\n",
        "          print(\"Just ignore the line\")\n",
        "\n",
        "    # break\n",
        "\n",
        "  if current_element['next_field'] != 'title_or_words':\n",
        "    all_elements.append(current_element)\n",
        "\n",
        "  print(\"Parsed {} elements...\".format(len(all_elements)))  \n",
        "\n",
        "  return pd.DataFrame(all_elements).drop(columns='next_field')"
      ],
      "metadata": {
        "id": "J4c8OXx_IVaC"
      },
      "execution_count": null,
      "outputs": []
    },
    {
      "cell_type": "markdown",
      "source": [
        "# Read CISI files"
      ],
      "metadata": {
        "id": "VLzZ1cYqDxsC"
      }
    },
    {
      "cell_type": "code",
      "source": [
        "docs_df = read_cisi_docs_and_queries('https://raw.githubusercontent.com/eduseiti/bm25_explore/main/cisi/CISI.ALL')"
      ],
      "metadata": {
        "id": "rzt2rb2uzXB9",
        "colab": {
          "base_uri": "https://localhost:8080/"
        },
        "outputId": "b68859c8-743c-4234-f305-c958ae2a2f83"
      },
      "execution_count": null,
      "outputs": [
        {
          "output_type": "stream",
          "name": "stdout",
          "text": [
            "Parsed 1460 elements...\n"
          ]
        }
      ]
    },
    {
      "cell_type": "code",
      "source": [
        "queries_df = read_cisi_docs_and_queries('https://raw.githubusercontent.com/eduseiti/bm25_explore/main/cisi/CISI.QRY')"
      ],
      "metadata": {
        "id": "oyBGYQux2pd_",
        "colab": {
          "base_uri": "https://localhost:8080/"
        },
        "outputId": "51b54075-9893-4c12-8074-da14d08be702"
      },
      "execution_count": null,
      "outputs": [
        {
          "output_type": "stream",
          "name": "stdout",
          "text": [
            "Parsed 112 elements...\n"
          ]
        }
      ]
    },
    {
      "cell_type": "code",
      "source": [
        "qrels_df = pd.read_csv('https://raw.githubusercontent.com/eduseiti/bm25_explore/main/cisi/CISI.REL', \n",
        "                       sep='\\t', \n",
        "                       header=None, \n",
        "                       names=['query_id', 'doc_id', 'Q0', 'rel'])"
      ],
      "metadata": {
        "id": "IDYz564C2oeB"
      },
      "execution_count": null,
      "outputs": []
    },
    {
      "cell_type": "markdown",
      "source": [
        "# Tokenize and clean stop words from reference docs and queries"
      ],
      "metadata": {
        "id": "IIEvmtGHGOYY"
      }
    },
    {
      "cell_type": "code",
      "source": [
        "def tokenize_and_remove_stop_words(which_df, stop_words, punctuation):\n",
        "\n",
        "  all_tokens = [nltk.word_tokenize(doc.lower()) for doc in which_df['words']]\n",
        "\n",
        "  cleaned_tokens = [[token for token in doc_tokens if token not in stop_words and token not in punctuation] for doc_tokens in all_tokens]\n",
        "\n",
        "  return cleaned_tokens"
      ],
      "metadata": {
        "id": "AqkM2p5gAhDk"
      },
      "execution_count": null,
      "outputs": []
    },
    {
      "cell_type": "code",
      "source": [
        "stop_words = set(stopwords.words('english'))\n",
        "punctuation = set(string.punctuation)"
      ],
      "metadata": {
        "id": "DlOUyDyBEm5u"
      },
      "execution_count": null,
      "outputs": []
    },
    {
      "cell_type": "code",
      "source": [
        "docs_tokens = tokenize_and_remove_stop_words(docs_df, stop_words, punctuation)"
      ],
      "metadata": {
        "id": "0bEoejvoYEAz"
      },
      "execution_count": null,
      "outputs": []
    },
    {
      "cell_type": "code",
      "source": [
        "len(docs_tokens)"
      ],
      "metadata": {
        "colab": {
          "base_uri": "https://localhost:8080/"
        },
        "id": "FW1_OK3nE3K_",
        "outputId": "dce5afd6-22d7-427b-ee04-9301a88731ad"
      },
      "execution_count": null,
      "outputs": [
        {
          "output_type": "execute_result",
          "data": {
            "text/plain": [
              "1460"
            ]
          },
          "metadata": {},
          "execution_count": 16
        }
      ]
    },
    {
      "cell_type": "code",
      "source": [
        "queries_tokens = tokenize_and_remove_stop_words(queries_df, stop_words, punctuation)"
      ],
      "metadata": {
        "id": "e1jcM51NFhsl"
      },
      "execution_count": null,
      "outputs": []
    },
    {
      "cell_type": "code",
      "source": [
        "len(queries_tokens)"
      ],
      "metadata": {
        "colab": {
          "base_uri": "https://localhost:8080/"
        },
        "id": "gkI39YaLF3jU",
        "outputId": "919386fd-738e-4e6a-ee1d-0c5f77bc3ad4"
      },
      "execution_count": null,
      "outputs": [
        {
          "output_type": "execute_result",
          "data": {
            "text/plain": [
              "112"
            ]
          },
          "metadata": {},
          "execution_count": 18
        }
      ]
    },
    {
      "cell_type": "markdown",
      "source": [
        "# Compute BM25 scores for each query / document pair"
      ],
      "metadata": {
        "id": "OdHeOT-jGA3q"
      }
    },
    {
      "cell_type": "code",
      "source": [
        "def compute_BM25(docs_tokens, queries_tokens, qrels_df, k1, b, score_threshold = 1e-5):\n",
        "\n",
        "  # print(\"k1={}, b={}\".format(k1, b))\n",
        "\n",
        "  docs_bm25_scores = rank_bm25.BM25Okapi(docs_tokens, k1=k1, b=b)\n",
        "\n",
        "  docs_queries_scores = []\n",
        "\n",
        "  for query_tokens in queries_tokens:\n",
        "    query_scores = docs_bm25_scores.get_scores(query_tokens)\n",
        "\n",
        "    docs_queries_scores.append(query_scores)\n",
        "\n",
        "  results = []\n",
        "\n",
        "  # Evaluate the retrieval performance using precision, recall, and F1-score\n",
        "\n",
        "  query_ids = qrels_df['query_id'].unique()\n",
        "\n",
        "  for query_id in query_ids:\n",
        "\n",
        "      inferred_relevant_docs = docs_queries_scores[query_id - 1] > score_threshold\n",
        "\n",
        "      gt_relevant_docs = np.zeros(inferred_relevant_docs.shape[0], dtype=bool)\n",
        "      gt_relevant_docs[qrels_df[qrels_df['query_id'] == query_id]['doc_id'].to_numpy() - 1] = True\n",
        "\n",
        "      precision = precision_score(gt_relevant_docs, inferred_relevant_docs)\n",
        "      recall = recall_score(gt_relevant_docs, inferred_relevant_docs)\n",
        "      f1 = f1_score(gt_relevant_docs, inferred_relevant_docs)\n",
        "\n",
        "      results.append({'query_id': query_id,\n",
        "                      'k1': k1,\n",
        "                      'b': b,\n",
        "                      'score_threshold': score_threshold,\n",
        "                      'precision': precision, \n",
        "                      'recall': recall, \n",
        "                      'f1': f1})\n",
        "\n",
        "  results_df = pd.DataFrame(results)\n",
        "\n",
        "  return results_df\n"
      ],
      "metadata": {
        "id": "dC2gPqKg4L4K"
      },
      "execution_count": null,
      "outputs": []
    },
    {
      "cell_type": "code",
      "source": [
        "k1_values = [1.0, 1.1, 1.2, 1.3, 1.4, 1.5, 1.6, 1.7, 1.8, 1.9, 2.0]\n",
        "b_values = [0.2, 0.25, 0.3, 0.35, 0.4, 0.45, 0.5, 0.55, 0.6, 0.65, 0.7, 0.75]"
      ],
      "metadata": {
        "id": "7nnz5800IH07"
      },
      "execution_count": null,
      "outputs": []
    },
    {
      "cell_type": "code",
      "source": [
        "all_results = []\n",
        "\n",
        "for k1_value in k1_values:\n",
        "  for b_value in b_values:\n",
        "    results_df = compute_BM25(docs_tokens, \n",
        "                              queries_tokens, \n",
        "                              qrels_df, \n",
        "                              k1_value, \n",
        "                              b_value, \n",
        "                              score_threshold = 5)\n",
        "    \n",
        "    print(\"k1={}, b={}, mean precision={}, mean recall={}, mean f1={}\".format(k1_value,\n",
        "                                                                              b_value,\n",
        "                                                                              results_df['precision'].mean(),\n",
        "                                                                              results_df['recall'].mean(),\n",
        "                                                                              results_df['f1'].mean()))\n",
        "    \n",
        "    all_results.append(results_df)"
      ],
      "metadata": {
        "colab": {
          "base_uri": "https://localhost:8080/"
        },
        "id": "Nde2ghPaJI8T",
        "outputId": "6811cfd0-28f9-411c-8552-47bcde8100fe"
      },
      "execution_count": null,
      "outputs": [
        {
          "output_type": "stream",
          "name": "stdout",
          "text": [
            "k1=1.0, b=0.2, mean precision=0.09510112422434318, mean recall=0.583446351714902, mean f1=0.11379923088107419\n",
            "k1=1.0, b=0.25, mean precision=0.09576328469948428, mean recall=0.5834260920933909, mean f1=0.11395588253647035\n",
            "k1=1.0, b=0.3, mean precision=0.09632017632584725, mean recall=0.5832158787201877, mean f1=0.11396464551766776\n",
            "k1=1.0, b=0.35, mean precision=0.09543929295083055, mean recall=0.582439356184242, mean f1=0.11362739273892163\n",
            "k1=1.0, b=0.4, mean precision=0.09570733996034833, mean recall=0.5812685529921969, mean f1=0.11380334154328979\n",
            "k1=1.0, b=0.45, mean precision=0.09653116437695333, mean recall=0.5827875094961208, mean f1=0.11464107726268122\n",
            "k1=1.0, b=0.5, mean precision=0.09678071498103105, mean recall=0.5835129366597365, mean f1=0.114977777425425\n",
            "k1=1.0, b=0.55, mean precision=0.09704709461283612, mean recall=0.5824205774552492, mean f1=0.11537287435588107\n",
            "k1=1.0, b=0.6, mean precision=0.09664963163449536, mean recall=0.5820369753784244, mean f1=0.11487717739368532\n",
            "k1=1.0, b=0.65, mean precision=0.09687951988848895, mean recall=0.5825845401530685, mean f1=0.11456908770141665\n",
            "k1=1.0, b=0.7, mean precision=0.09645401186426072, mean recall=0.5826799251064635, mean f1=0.11469213465349427\n",
            "k1=1.0, b=0.75, mean precision=0.09618532043232593, mean recall=0.5817301387188861, mean f1=0.11409922120490948\n",
            "k1=1.1, b=0.2, mean precision=0.09408923944566028, mean recall=0.5855496558512018, mean f1=0.11375585968129942\n",
            "k1=1.1, b=0.25, mean precision=0.09438012929026451, mean recall=0.5854447880548057, mean f1=0.11365416723980504\n",
            "k1=1.1, b=0.3, mean precision=0.09504440026271097, mean recall=0.5852954829855449, mean f1=0.11396271605898003\n",
            "k1=1.1, b=0.35, mean precision=0.09473878713695372, mean recall=0.5835173844893581, mean f1=0.1135115325572965\n",
            "k1=1.1, b=0.4, mean precision=0.09550332642088483, mean recall=0.5844517649859436, mean f1=0.1139271125111376\n",
            "k1=1.1, b=0.45, mean precision=0.09599921983319203, mean recall=0.5844477388597562, mean f1=0.11471926797138166\n",
            "k1=1.1, b=0.5, mean precision=0.09658941510069609, mean recall=0.5852661071149865, mean f1=0.11521006636849374\n",
            "k1=1.1, b=0.55, mean precision=0.0961354486990428, mean recall=0.5832149445260997, mean f1=0.11474344901961689\n",
            "k1=1.1, b=0.6, mean precision=0.09619519154060516, mean recall=0.5849313513279452, mean f1=0.11483058609295886\n",
            "k1=1.1, b=0.65, mean precision=0.09598145504443009, mean recall=0.5853814421590827, mean f1=0.1148948999819413\n",
            "k1=1.1, b=0.7, mean precision=0.09536644354367717, mean recall=0.5837569856439481, mean f1=0.11415634243983412\n",
            "k1=1.1, b=0.75, mean precision=0.09436238920135344, mean recall=0.5844070036672347, mean f1=0.11417822780455883\n",
            "k1=1.2, b=0.2, mean precision=0.0934273904424697, mean recall=0.5870481944962145, mean f1=0.1135058816661112\n",
            "k1=1.2, b=0.25, mean precision=0.09375437671078449, mean recall=0.5858294079548924, mean f1=0.1132699208175412\n",
            "k1=1.2, b=0.3, mean precision=0.09443276642860647, mean recall=0.586232574765676, mean f1=0.11377261965344738\n",
            "k1=1.2, b=0.35, mean precision=0.09435497803687856, mean recall=0.5865048492022883, mean f1=0.11377524690139047\n",
            "k1=1.2, b=0.4, mean precision=0.09507476450832623, mean recall=0.5862751428076546, mean f1=0.1139233798359643\n",
            "k1=1.2, b=0.45, mean precision=0.09599188942562557, mean recall=0.5864428633746116, mean f1=0.11499787771437373\n",
            "k1=1.2, b=0.5, mean precision=0.09675446063838292, mean recall=0.5846322146027079, mean f1=0.11543851621602559\n",
            "k1=1.2, b=0.55, mean precision=0.09562032389991783, mean recall=0.5844679107714971, mean f1=0.11474538076572373\n",
            "k1=1.2, b=0.6, mean precision=0.09580039021461548, mean recall=0.5873410537709013, mean f1=0.11491415811420602\n",
            "k1=1.2, b=0.65, mean precision=0.09521860039272284, mean recall=0.5865733545802425, mean f1=0.11476425891698046\n",
            "k1=1.2, b=0.7, mean precision=0.0944721783527768, mean recall=0.5859184550543495, mean f1=0.11430462291372756\n",
            "k1=1.2, b=0.75, mean precision=0.09496066708441957, mean recall=0.5873003644353302, mean f1=0.11453483145029171\n",
            "k1=1.3, b=0.2, mean precision=0.09338718594753692, mean recall=0.5883048491315619, mean f1=0.11389789810846299\n",
            "k1=1.3, b=0.25, mean precision=0.09428468098871351, mean recall=0.5874921154406332, mean f1=0.11368913551716088\n",
            "k1=1.3, b=0.3, mean precision=0.09350625246857554, mean recall=0.5867199761740542, mean f1=0.11319064378312968\n",
            "k1=1.3, b=0.35, mean precision=0.09362338490321355, mean recall=0.5879655560273411, mean f1=0.11359838301337404\n",
            "k1=1.3, b=0.4, mean precision=0.09481738503691321, mean recall=0.5875899396405669, mean f1=0.11429207656431595\n",
            "k1=1.3, b=0.45, mean precision=0.09513538447084531, mean recall=0.5873601598646365, mean f1=0.11480441194091687\n",
            "k1=1.3, b=0.5, mean precision=0.0948601146098141, mean recall=0.5860646295426882, mean f1=0.11461634243965864\n",
            "k1=1.3, b=0.55, mean precision=0.09486875142483349, mean recall=0.5875676071522554, mean f1=0.11460359818445055\n",
            "k1=1.3, b=0.6, mean precision=0.09538972184099576, mean recall=0.5889300405423793, mean f1=0.11509405898410877\n",
            "k1=1.3, b=0.65, mean precision=0.0948303525866125, mean recall=0.5873033979723049, mean f1=0.11451286020432286\n",
            "k1=1.3, b=0.7, mean precision=0.09428558512675045, mean recall=0.5885791165202494, mean f1=0.11436298839338149\n",
            "k1=1.3, b=0.75, mean precision=0.09439470784487225, mean recall=0.5892260039699918, mean f1=0.11446500864817517\n",
            "k1=1.4, b=0.2, mean precision=0.09354541151030409, mean recall=0.5907319389490229, mean f1=0.11482527985102899\n",
            "k1=1.4, b=0.25, mean precision=0.09380124338406949, mean recall=0.5900732922371816, mean f1=0.11446881517366618\n",
            "k1=1.4, b=0.3, mean precision=0.09309206521670682, mean recall=0.5880562113174228, mean f1=0.1135524645571338\n",
            "k1=1.4, b=0.35, mean precision=0.09374722598467715, mean recall=0.5889202709373709, mean f1=0.11385956879980581\n",
            "k1=1.4, b=0.4, mean precision=0.09438517780279461, mean recall=0.5898879806960461, mean f1=0.1147034351073775\n",
            "k1=1.4, b=0.45, mean precision=0.09506313282513969, mean recall=0.5913441073532812, mean f1=0.11549496307607254\n",
            "k1=1.4, b=0.5, mean precision=0.09468989821291203, mean recall=0.5883756643206992, mean f1=0.11475173068097011\n",
            "k1=1.4, b=0.55, mean precision=0.09456160543784985, mean recall=0.5911911391801472, mean f1=0.11479014623804594\n",
            "k1=1.4, b=0.6, mean precision=0.09476268975681341, mean recall=0.5918332201702757, mean f1=0.11522437654846283\n",
            "k1=1.4, b=0.65, mean precision=0.09348105733256906, mean recall=0.5915454070435799, mean f1=0.11439039112896762\n",
            "k1=1.4, b=0.7, mean precision=0.09351101314412587, mean recall=0.591377764634123, mean f1=0.11428210646109373\n",
            "k1=1.4, b=0.75, mean precision=0.09325620090548344, mean recall=0.5908304270616318, mean f1=0.11396389787648277\n",
            "k1=1.5, b=0.2, mean precision=0.09355203151793975, mean recall=0.5934778785530742, mean f1=0.11524497308627994\n",
            "k1=1.5, b=0.25, mean precision=0.094149850987692, mean recall=0.5927612156187798, mean f1=0.11504930252634353\n",
            "k1=1.5, b=0.3, mean precision=0.09309162744067646, mean recall=0.5920166004327464, mean f1=0.11424679717864675\n",
            "k1=1.5, b=0.35, mean precision=0.09371462585965092, mean recall=0.5916734343406308, mean f1=0.11429562134055449\n",
            "k1=1.5, b=0.4, mean precision=0.09449338819610556, mean recall=0.5924567313447928, mean f1=0.11507423686390623\n",
            "k1=1.5, b=0.45, mean precision=0.09480755529844791, mean recall=0.5905237622553717, mean f1=0.1153384548399869\n",
            "k1=1.5, b=0.5, mean precision=0.09447723548564546, mean recall=0.5903607347234336, mean f1=0.11490265154731755\n",
            "k1=1.5, b=0.55, mean precision=0.09545101405057432, mean recall=0.5941874201832026, mean f1=0.11593049911862432\n",
            "k1=1.5, b=0.6, mean precision=0.0944565888617417, mean recall=0.5946838892516653, mean f1=0.11557221430875801\n",
            "k1=1.5, b=0.65, mean precision=0.09403267206035601, mean recall=0.5932252823989038, mean f1=0.11516416990330906\n",
            "k1=1.5, b=0.7, mean precision=0.09394437557250802, mean recall=0.5939588602326591, mean f1=0.11526432519544819\n",
            "k1=1.5, b=0.75, mean precision=0.09257195308058608, mean recall=0.5964196834435717, mean f1=0.11479914455410216\n",
            "k1=1.6, b=0.2, mean precision=0.09414144353857946, mean recall=0.5976030109412537, mean f1=0.11627414042032962\n",
            "k1=1.6, b=0.25, mean precision=0.09404084030591735, mean recall=0.5953428818299074, mean f1=0.11529555038048027\n",
            "k1=1.6, b=0.3, mean precision=0.09320018456034398, mean recall=0.5935892066791175, mean f1=0.11456987948157614\n",
            "k1=1.6, b=0.35, mean precision=0.09316615653642871, mean recall=0.593601225759266, mean f1=0.11445292592640686\n",
            "k1=1.6, b=0.4, mean precision=0.09374140462799832, mean recall=0.5951145435910817, mean f1=0.11526833617979244\n",
            "k1=1.6, b=0.45, mean precision=0.09435637578292878, mean recall=0.5926404890072645, mean f1=0.11526096371657116\n",
            "k1=1.6, b=0.5, mean precision=0.0941937524627061, mean recall=0.5917696669858555, mean f1=0.1150612863046018\n",
            "k1=1.6, b=0.55, mean precision=0.09472033412481096, mean recall=0.595781673025552, mean f1=0.11572105353436812\n",
            "k1=1.6, b=0.6, mean precision=0.09397470176315807, mean recall=0.5962207235504149, mean f1=0.11579148866454421\n",
            "k1=1.6, b=0.65, mean precision=0.09340475688055438, mean recall=0.59557970860623, mean f1=0.11533767196816727\n",
            "k1=1.6, b=0.7, mean precision=0.09317897833564297, mean recall=0.5957260661136929, mean f1=0.1151686609018092\n",
            "k1=1.6, b=0.75, mean precision=0.09193397262600471, mean recall=0.5969013681579829, mean f1=0.11447704636122062\n",
            "k1=1.7, b=0.2, mean precision=0.09365763587879314, mean recall=0.5993896173750844, mean f1=0.11645466373290177\n",
            "k1=1.7, b=0.25, mean precision=0.09384129034810133, mean recall=0.5976960980029611, mean f1=0.11588953276153476\n",
            "k1=1.7, b=0.3, mean precision=0.09373170307697437, mean recall=0.5972495611438561, mean f1=0.11551454446202204\n",
            "k1=1.7, b=0.35, mean precision=0.09287218365198906, mean recall=0.5953476410484541, mean f1=0.11447903598955661\n",
            "k1=1.7, b=0.4, mean precision=0.09307010683385934, mean recall=0.5957902664415973, mean f1=0.11507626534352033\n",
            "k1=1.7, b=0.45, mean precision=0.09369956066299442, mean recall=0.5934981180084636, mean f1=0.11522170861861328\n",
            "k1=1.7, b=0.5, mean precision=0.09332850026069194, mean recall=0.5943474065093057, mean f1=0.11477671539187502\n",
            "k1=1.7, b=0.55, mean precision=0.09376462287529985, mean recall=0.5957358475290429, mean f1=0.11520239812107809\n",
            "k1=1.7, b=0.6, mean precision=0.09358897887468057, mean recall=0.597734020696434, mean f1=0.11581465237436064\n",
            "k1=1.7, b=0.65, mean precision=0.09357471930839086, mean recall=0.5964165648181039, mean f1=0.11550063017283348\n",
            "k1=1.7, b=0.7, mean precision=0.09195373623126703, mean recall=0.5969319191150702, mean f1=0.11495417811942658\n",
            "k1=1.7, b=0.75, mean precision=0.09156926829528751, mean recall=0.5978879991757146, mean f1=0.1143978734198315\n",
            "k1=1.8, b=0.2, mean precision=0.09311069727155923, mean recall=0.6008856997535645, mean f1=0.11631580424868235\n",
            "k1=1.8, b=0.25, mean precision=0.09348870213306466, mean recall=0.5990464703338723, mean f1=0.11592424965776332\n",
            "k1=1.8, b=0.3, mean precision=0.0930088043000378, mean recall=0.5979468130103259, mean f1=0.11532365807507962\n",
            "k1=1.8, b=0.35, mean precision=0.09286333214061716, mean recall=0.5977484979824814, mean f1=0.11507982332243342\n",
            "k1=1.8, b=0.4, mean precision=0.09285310177699861, mean recall=0.5975052875805801, mean f1=0.11539210066194525\n",
            "k1=1.8, b=0.45, mean precision=0.09280228763051919, mean recall=0.5951001077194116, mean f1=0.11479983454785407\n",
            "k1=1.8, b=0.5, mean precision=0.09325541711653221, mean recall=0.5961435626760664, mean f1=0.11487573374017702\n",
            "k1=1.8, b=0.55, mean precision=0.09287186497261679, mean recall=0.5966489607752274, mean f1=0.1151678613380447\n",
            "k1=1.8, b=0.6, mean precision=0.09273235837960843, mean recall=0.5976964142672938, mean f1=0.11528284220195088\n",
            "k1=1.8, b=0.65, mean precision=0.0932422524822183, mean recall=0.5978512163494344, mean f1=0.11561470795694923\n",
            "k1=1.8, b=0.7, mean precision=0.09231684824859855, mean recall=0.5997893404071544, mean f1=0.11545788317137029\n",
            "k1=1.8, b=0.75, mean precision=0.09222817435138668, mean recall=0.5991416790312987, mean f1=0.11516344604785268\n",
            "k1=1.9, b=0.2, mean precision=0.0927931953416352, mean recall=0.6034597730735223, mean f1=0.11669322861540235\n",
            "k1=1.9, b=0.25, mean precision=0.09350643421463418, mean recall=0.602089315918941, mean f1=0.11643268145410926\n",
            "k1=1.9, b=0.3, mean precision=0.0927349847015499, mean recall=0.5991312465396141, mean f1=0.11542606239217283\n",
            "k1=1.9, b=0.35, mean precision=0.09288733132536608, mean recall=0.5991731459059554, mean f1=0.11551920473012955\n",
            "k1=1.9, b=0.4, mean precision=0.0926760540213249, mean recall=0.6009426621020989, mean f1=0.11565631275322517\n",
            "k1=1.9, b=0.45, mean precision=0.0921177315794218, mean recall=0.5961530396590868, mean f1=0.11464169479769734\n",
            "k1=1.9, b=0.5, mean precision=0.09334612999708321, mean recall=0.5975805118848626, mean f1=0.11536121296118637\n",
            "k1=1.9, b=0.55, mean precision=0.09343058920962503, mean recall=0.5989771963407576, mean f1=0.11585307830114436\n",
            "k1=1.9, b=0.6, mean precision=0.0931901811804957, mean recall=0.5992597581920127, mean f1=0.11599916015808501\n",
            "k1=1.9, b=0.65, mean precision=0.09233602335301841, mean recall=0.5980519076867978, mean f1=0.11531202961311131\n",
            "k1=1.9, b=0.7, mean precision=0.09172127846208283, mean recall=0.6000584154012882, mean f1=0.11521526829285736\n",
            "k1=1.9, b=0.75, mean precision=0.09121391436788735, mean recall=0.5987030160068236, mean f1=0.11439967012085556\n",
            "k1=2.0, b=0.2, mean precision=0.0925484499237892, mean recall=0.6036350821844166, mean f1=0.11641591142521975\n",
            "k1=2.0, b=0.25, mean precision=0.09268913714236987, mean recall=0.6022052747738789, mean f1=0.11593024437745261\n",
            "k1=2.0, b=0.3, mean precision=0.0927591100894104, mean recall=0.6013177019805651, mean f1=0.11574645598927598\n",
            "k1=2.0, b=0.35, mean precision=0.09206553040778137, mean recall=0.6003846291015398, mean f1=0.11548625025454907\n",
            "k1=2.0, b=0.4, mean precision=0.09304107662094671, mean recall=0.6009289895373361, mean f1=0.1161943552276948\n",
            "k1=2.0, b=0.45, mean precision=0.09207398751180658, mean recall=0.598130252254996, mean f1=0.11478081332375736\n",
            "k1=2.0, b=0.5, mean precision=0.09321031099021493, mean recall=0.6003056384404718, mean f1=0.11585190066475\n",
            "k1=2.0, b=0.55, mean precision=0.09271946186299955, mean recall=0.6002291062533118, mean f1=0.11591645079389237\n",
            "k1=2.0, b=0.6, mean precision=0.09271082268168467, mean recall=0.5999591962245223, mean f1=0.11589991932215345\n",
            "k1=2.0, b=0.65, mean precision=0.0921164606977824, mean recall=0.5990388733359429, mean f1=0.1152181690645973\n",
            "k1=2.0, b=0.7, mean precision=0.09161300789991786, mean recall=0.6012427313326733, mean f1=0.11528371737015672\n",
            "k1=2.0, b=0.75, mean precision=0.09095889708484921, mean recall=0.6002007195357946, mean f1=0.1144655059416813\n"
          ]
        }
      ]
    },
    {
      "cell_type": "code",
      "source": [
        "all_results_df = pd.concat(all_results)"
      ],
      "metadata": {
        "id": "I8d9mRV9Jylz"
      },
      "execution_count": null,
      "outputs": []
    },
    {
      "cell_type": "code",
      "source": [
        "all_results_stats_df = all_results_df.groupby(['k1', 'b'])[['precision', 'recall', 'f1']].mean().reset_index()"
      ],
      "metadata": {
        "id": "byqit2dWSrL3"
      },
      "execution_count": null,
      "outputs": []
    },
    {
      "cell_type": "code",
      "source": [
        "all_results_stats_df"
      ],
      "metadata": {
        "colab": {
          "base_uri": "https://localhost:8080/",
          "height": 424
        },
        "id": "CAPr4nRPVSVe",
        "outputId": "67abb483-45a0-4e5d-cfb8-3cf853df4943"
      },
      "execution_count": null,
      "outputs": [
        {
          "output_type": "execute_result",
          "data": {
            "text/plain": [
              "              k1            b    precision       recall           f1\n",
              "0   1.0000000000 0.2000000000 0.0951011242 0.5834463517 0.1137992309\n",
              "1   1.0000000000 0.2500000000 0.0957632847 0.5834260921 0.1139558825\n",
              "2   1.0000000000 0.3000000000 0.0963201763 0.5832158787 0.1139646455\n",
              "3   1.0000000000 0.3500000000 0.0954392930 0.5824393562 0.1136273927\n",
              "4   1.0000000000 0.4000000000 0.0957073400 0.5812685530 0.1138033415\n",
              "..           ...          ...          ...          ...          ...\n",
              "127 2.0000000000 0.5500000000 0.0927194619 0.6002291063 0.1159164508\n",
              "128 2.0000000000 0.6000000000 0.0927108227 0.5999591962 0.1158999193\n",
              "129 2.0000000000 0.6500000000 0.0921164607 0.5990388733 0.1152181691\n",
              "130 2.0000000000 0.7000000000 0.0916130079 0.6012427313 0.1152837174\n",
              "131 2.0000000000 0.7500000000 0.0909588971 0.6002007195 0.1144655059\n",
              "\n",
              "[132 rows x 5 columns]"
            ],
            "text/html": [
              "\n",
              "  <div id=\"df-5204f4cb-afd4-41fa-8494-80832202008b\">\n",
              "    <div class=\"colab-df-container\">\n",
              "      <div>\n",
              "<style scoped>\n",
              "    .dataframe tbody tr th:only-of-type {\n",
              "        vertical-align: middle;\n",
              "    }\n",
              "\n",
              "    .dataframe tbody tr th {\n",
              "        vertical-align: top;\n",
              "    }\n",
              "\n",
              "    .dataframe thead th {\n",
              "        text-align: right;\n",
              "    }\n",
              "</style>\n",
              "<table border=\"1\" class=\"dataframe\">\n",
              "  <thead>\n",
              "    <tr style=\"text-align: right;\">\n",
              "      <th></th>\n",
              "      <th>k1</th>\n",
              "      <th>b</th>\n",
              "      <th>precision</th>\n",
              "      <th>recall</th>\n",
              "      <th>f1</th>\n",
              "    </tr>\n",
              "  </thead>\n",
              "  <tbody>\n",
              "    <tr>\n",
              "      <th>0</th>\n",
              "      <td>1.0000000000</td>\n",
              "      <td>0.2000000000</td>\n",
              "      <td>0.0951011242</td>\n",
              "      <td>0.5834463517</td>\n",
              "      <td>0.1137992309</td>\n",
              "    </tr>\n",
              "    <tr>\n",
              "      <th>1</th>\n",
              "      <td>1.0000000000</td>\n",
              "      <td>0.2500000000</td>\n",
              "      <td>0.0957632847</td>\n",
              "      <td>0.5834260921</td>\n",
              "      <td>0.1139558825</td>\n",
              "    </tr>\n",
              "    <tr>\n",
              "      <th>2</th>\n",
              "      <td>1.0000000000</td>\n",
              "      <td>0.3000000000</td>\n",
              "      <td>0.0963201763</td>\n",
              "      <td>0.5832158787</td>\n",
              "      <td>0.1139646455</td>\n",
              "    </tr>\n",
              "    <tr>\n",
              "      <th>3</th>\n",
              "      <td>1.0000000000</td>\n",
              "      <td>0.3500000000</td>\n",
              "      <td>0.0954392930</td>\n",
              "      <td>0.5824393562</td>\n",
              "      <td>0.1136273927</td>\n",
              "    </tr>\n",
              "    <tr>\n",
              "      <th>4</th>\n",
              "      <td>1.0000000000</td>\n",
              "      <td>0.4000000000</td>\n",
              "      <td>0.0957073400</td>\n",
              "      <td>0.5812685530</td>\n",
              "      <td>0.1138033415</td>\n",
              "    </tr>\n",
              "    <tr>\n",
              "      <th>...</th>\n",
              "      <td>...</td>\n",
              "      <td>...</td>\n",
              "      <td>...</td>\n",
              "      <td>...</td>\n",
              "      <td>...</td>\n",
              "    </tr>\n",
              "    <tr>\n",
              "      <th>127</th>\n",
              "      <td>2.0000000000</td>\n",
              "      <td>0.5500000000</td>\n",
              "      <td>0.0927194619</td>\n",
              "      <td>0.6002291063</td>\n",
              "      <td>0.1159164508</td>\n",
              "    </tr>\n",
              "    <tr>\n",
              "      <th>128</th>\n",
              "      <td>2.0000000000</td>\n",
              "      <td>0.6000000000</td>\n",
              "      <td>0.0927108227</td>\n",
              "      <td>0.5999591962</td>\n",
              "      <td>0.1158999193</td>\n",
              "    </tr>\n",
              "    <tr>\n",
              "      <th>129</th>\n",
              "      <td>2.0000000000</td>\n",
              "      <td>0.6500000000</td>\n",
              "      <td>0.0921164607</td>\n",
              "      <td>0.5990388733</td>\n",
              "      <td>0.1152181691</td>\n",
              "    </tr>\n",
              "    <tr>\n",
              "      <th>130</th>\n",
              "      <td>2.0000000000</td>\n",
              "      <td>0.7000000000</td>\n",
              "      <td>0.0916130079</td>\n",
              "      <td>0.6012427313</td>\n",
              "      <td>0.1152837174</td>\n",
              "    </tr>\n",
              "    <tr>\n",
              "      <th>131</th>\n",
              "      <td>2.0000000000</td>\n",
              "      <td>0.7500000000</td>\n",
              "      <td>0.0909588971</td>\n",
              "      <td>0.6002007195</td>\n",
              "      <td>0.1144655059</td>\n",
              "    </tr>\n",
              "  </tbody>\n",
              "</table>\n",
              "<p>132 rows × 5 columns</p>\n",
              "</div>\n",
              "      <button class=\"colab-df-convert\" onclick=\"convertToInteractive('df-5204f4cb-afd4-41fa-8494-80832202008b')\"\n",
              "              title=\"Convert this dataframe to an interactive table.\"\n",
              "              style=\"display:none;\">\n",
              "        \n",
              "  <svg xmlns=\"http://www.w3.org/2000/svg\" height=\"24px\"viewBox=\"0 0 24 24\"\n",
              "       width=\"24px\">\n",
              "    <path d=\"M0 0h24v24H0V0z\" fill=\"none\"/>\n",
              "    <path d=\"M18.56 5.44l.94 2.06.94-2.06 2.06-.94-2.06-.94-.94-2.06-.94 2.06-2.06.94zm-11 1L8.5 8.5l.94-2.06 2.06-.94-2.06-.94L8.5 2.5l-.94 2.06-2.06.94zm10 10l.94 2.06.94-2.06 2.06-.94-2.06-.94-.94-2.06-.94 2.06-2.06.94z\"/><path d=\"M17.41 7.96l-1.37-1.37c-.4-.4-.92-.59-1.43-.59-.52 0-1.04.2-1.43.59L10.3 9.45l-7.72 7.72c-.78.78-.78 2.05 0 2.83L4 21.41c.39.39.9.59 1.41.59.51 0 1.02-.2 1.41-.59l7.78-7.78 2.81-2.81c.8-.78.8-2.07 0-2.86zM5.41 20L4 18.59l7.72-7.72 1.47 1.35L5.41 20z\"/>\n",
              "  </svg>\n",
              "      </button>\n",
              "      \n",
              "  <style>\n",
              "    .colab-df-container {\n",
              "      display:flex;\n",
              "      flex-wrap:wrap;\n",
              "      gap: 12px;\n",
              "    }\n",
              "\n",
              "    .colab-df-convert {\n",
              "      background-color: #E8F0FE;\n",
              "      border: none;\n",
              "      border-radius: 50%;\n",
              "      cursor: pointer;\n",
              "      display: none;\n",
              "      fill: #1967D2;\n",
              "      height: 32px;\n",
              "      padding: 0 0 0 0;\n",
              "      width: 32px;\n",
              "    }\n",
              "\n",
              "    .colab-df-convert:hover {\n",
              "      background-color: #E2EBFA;\n",
              "      box-shadow: 0px 1px 2px rgba(60, 64, 67, 0.3), 0px 1px 3px 1px rgba(60, 64, 67, 0.15);\n",
              "      fill: #174EA6;\n",
              "    }\n",
              "\n",
              "    [theme=dark] .colab-df-convert {\n",
              "      background-color: #3B4455;\n",
              "      fill: #D2E3FC;\n",
              "    }\n",
              "\n",
              "    [theme=dark] .colab-df-convert:hover {\n",
              "      background-color: #434B5C;\n",
              "      box-shadow: 0px 1px 3px 1px rgba(0, 0, 0, 0.15);\n",
              "      filter: drop-shadow(0px 1px 2px rgba(0, 0, 0, 0.3));\n",
              "      fill: #FFFFFF;\n",
              "    }\n",
              "  </style>\n",
              "\n",
              "      <script>\n",
              "        const buttonEl =\n",
              "          document.querySelector('#df-5204f4cb-afd4-41fa-8494-80832202008b button.colab-df-convert');\n",
              "        buttonEl.style.display =\n",
              "          google.colab.kernel.accessAllowed ? 'block' : 'none';\n",
              "\n",
              "        async function convertToInteractive(key) {\n",
              "          const element = document.querySelector('#df-5204f4cb-afd4-41fa-8494-80832202008b');\n",
              "          const dataTable =\n",
              "            await google.colab.kernel.invokeFunction('convertToInteractive',\n",
              "                                                     [key], {});\n",
              "          if (!dataTable) return;\n",
              "\n",
              "          const docLinkHtml = 'Like what you see? Visit the ' +\n",
              "            '<a target=\"_blank\" href=https://colab.research.google.com/notebooks/data_table.ipynb>data table notebook</a>'\n",
              "            + ' to learn more about interactive tables.';\n",
              "          element.innerHTML = '';\n",
              "          dataTable['output_type'] = 'display_data';\n",
              "          await google.colab.output.renderOutput(dataTable, element);\n",
              "          const docLink = document.createElement('div');\n",
              "          docLink.innerHTML = docLinkHtml;\n",
              "          element.appendChild(docLink);\n",
              "        }\n",
              "      </script>\n",
              "    </div>\n",
              "  </div>\n",
              "  "
            ]
          },
          "metadata": {},
          "execution_count": 75
        }
      ]
    },
    {
      "cell_type": "code",
      "source": [
        "all_results_stats_df['precision'].max()"
      ],
      "metadata": {
        "colab": {
          "base_uri": "https://localhost:8080/"
        },
        "id": "92RJY7_JVT6b",
        "outputId": "0d2c4898-29a2-4ea9-dfdd-a40aa34050bf"
      },
      "execution_count": null,
      "outputs": [
        {
          "output_type": "execute_result",
          "data": {
            "text/plain": [
              "0.09704709461283613"
            ]
          },
          "metadata": {},
          "execution_count": 76
        }
      ]
    },
    {
      "cell_type": "code",
      "source": [
        "all_results_stats_df['recall'].max()"
      ],
      "metadata": {
        "colab": {
          "base_uri": "https://localhost:8080/"
        },
        "id": "7aC7yQQxVYQY",
        "outputId": "a2d8ce0c-4aa7-45a6-8853-6256d266e784"
      },
      "execution_count": null,
      "outputs": [
        {
          "output_type": "execute_result",
          "data": {
            "text/plain": [
              "0.6036350821844166"
            ]
          },
          "metadata": {},
          "execution_count": 77
        }
      ]
    },
    {
      "cell_type": "code",
      "source": [
        "all_results_stats_df[all_results_stats_df['recall'] == all_results_stats_df['recall'].max()]"
      ],
      "metadata": {
        "colab": {
          "base_uri": "https://localhost:8080/",
          "height": 81
        },
        "id": "MxmKZs_PVavw",
        "outputId": "185ad13e-13d5-48b3-c6f0-fe1618d88fe1"
      },
      "execution_count": null,
      "outputs": [
        {
          "output_type": "execute_result",
          "data": {
            "text/plain": [
              "              k1            b    precision       recall           f1\n",
              "120 2.0000000000 0.2000000000 0.0925484499 0.6036350822 0.1164159114"
            ],
            "text/html": [
              "\n",
              "  <div id=\"df-da61148f-b442-401f-ae37-312ad32bd4dc\">\n",
              "    <div class=\"colab-df-container\">\n",
              "      <div>\n",
              "<style scoped>\n",
              "    .dataframe tbody tr th:only-of-type {\n",
              "        vertical-align: middle;\n",
              "    }\n",
              "\n",
              "    .dataframe tbody tr th {\n",
              "        vertical-align: top;\n",
              "    }\n",
              "\n",
              "    .dataframe thead th {\n",
              "        text-align: right;\n",
              "    }\n",
              "</style>\n",
              "<table border=\"1\" class=\"dataframe\">\n",
              "  <thead>\n",
              "    <tr style=\"text-align: right;\">\n",
              "      <th></th>\n",
              "      <th>k1</th>\n",
              "      <th>b</th>\n",
              "      <th>precision</th>\n",
              "      <th>recall</th>\n",
              "      <th>f1</th>\n",
              "    </tr>\n",
              "  </thead>\n",
              "  <tbody>\n",
              "    <tr>\n",
              "      <th>120</th>\n",
              "      <td>2.0000000000</td>\n",
              "      <td>0.2000000000</td>\n",
              "      <td>0.0925484499</td>\n",
              "      <td>0.6036350822</td>\n",
              "      <td>0.1164159114</td>\n",
              "    </tr>\n",
              "  </tbody>\n",
              "</table>\n",
              "</div>\n",
              "      <button class=\"colab-df-convert\" onclick=\"convertToInteractive('df-da61148f-b442-401f-ae37-312ad32bd4dc')\"\n",
              "              title=\"Convert this dataframe to an interactive table.\"\n",
              "              style=\"display:none;\">\n",
              "        \n",
              "  <svg xmlns=\"http://www.w3.org/2000/svg\" height=\"24px\"viewBox=\"0 0 24 24\"\n",
              "       width=\"24px\">\n",
              "    <path d=\"M0 0h24v24H0V0z\" fill=\"none\"/>\n",
              "    <path d=\"M18.56 5.44l.94 2.06.94-2.06 2.06-.94-2.06-.94-.94-2.06-.94 2.06-2.06.94zm-11 1L8.5 8.5l.94-2.06 2.06-.94-2.06-.94L8.5 2.5l-.94 2.06-2.06.94zm10 10l.94 2.06.94-2.06 2.06-.94-2.06-.94-.94-2.06-.94 2.06-2.06.94z\"/><path d=\"M17.41 7.96l-1.37-1.37c-.4-.4-.92-.59-1.43-.59-.52 0-1.04.2-1.43.59L10.3 9.45l-7.72 7.72c-.78.78-.78 2.05 0 2.83L4 21.41c.39.39.9.59 1.41.59.51 0 1.02-.2 1.41-.59l7.78-7.78 2.81-2.81c.8-.78.8-2.07 0-2.86zM5.41 20L4 18.59l7.72-7.72 1.47 1.35L5.41 20z\"/>\n",
              "  </svg>\n",
              "      </button>\n",
              "      \n",
              "  <style>\n",
              "    .colab-df-container {\n",
              "      display:flex;\n",
              "      flex-wrap:wrap;\n",
              "      gap: 12px;\n",
              "    }\n",
              "\n",
              "    .colab-df-convert {\n",
              "      background-color: #E8F0FE;\n",
              "      border: none;\n",
              "      border-radius: 50%;\n",
              "      cursor: pointer;\n",
              "      display: none;\n",
              "      fill: #1967D2;\n",
              "      height: 32px;\n",
              "      padding: 0 0 0 0;\n",
              "      width: 32px;\n",
              "    }\n",
              "\n",
              "    .colab-df-convert:hover {\n",
              "      background-color: #E2EBFA;\n",
              "      box-shadow: 0px 1px 2px rgba(60, 64, 67, 0.3), 0px 1px 3px 1px rgba(60, 64, 67, 0.15);\n",
              "      fill: #174EA6;\n",
              "    }\n",
              "\n",
              "    [theme=dark] .colab-df-convert {\n",
              "      background-color: #3B4455;\n",
              "      fill: #D2E3FC;\n",
              "    }\n",
              "\n",
              "    [theme=dark] .colab-df-convert:hover {\n",
              "      background-color: #434B5C;\n",
              "      box-shadow: 0px 1px 3px 1px rgba(0, 0, 0, 0.15);\n",
              "      filter: drop-shadow(0px 1px 2px rgba(0, 0, 0, 0.3));\n",
              "      fill: #FFFFFF;\n",
              "    }\n",
              "  </style>\n",
              "\n",
              "      <script>\n",
              "        const buttonEl =\n",
              "          document.querySelector('#df-da61148f-b442-401f-ae37-312ad32bd4dc button.colab-df-convert');\n",
              "        buttonEl.style.display =\n",
              "          google.colab.kernel.accessAllowed ? 'block' : 'none';\n",
              "\n",
              "        async function convertToInteractive(key) {\n",
              "          const element = document.querySelector('#df-da61148f-b442-401f-ae37-312ad32bd4dc');\n",
              "          const dataTable =\n",
              "            await google.colab.kernel.invokeFunction('convertToInteractive',\n",
              "                                                     [key], {});\n",
              "          if (!dataTable) return;\n",
              "\n",
              "          const docLinkHtml = 'Like what you see? Visit the ' +\n",
              "            '<a target=\"_blank\" href=https://colab.research.google.com/notebooks/data_table.ipynb>data table notebook</a>'\n",
              "            + ' to learn more about interactive tables.';\n",
              "          element.innerHTML = '';\n",
              "          dataTable['output_type'] = 'display_data';\n",
              "          await google.colab.output.renderOutput(dataTable, element);\n",
              "          const docLink = document.createElement('div');\n",
              "          docLink.innerHTML = docLinkHtml;\n",
              "          element.appendChild(docLink);\n",
              "        }\n",
              "      </script>\n",
              "    </div>\n",
              "  </div>\n",
              "  "
            ]
          },
          "metadata": {},
          "execution_count": 78
        }
      ]
    },
    {
      "cell_type": "code",
      "source": [],
      "metadata": {
        "id": "xQNSRZjfVmDZ"
      },
      "execution_count": null,
      "outputs": []
    }
  ]
}